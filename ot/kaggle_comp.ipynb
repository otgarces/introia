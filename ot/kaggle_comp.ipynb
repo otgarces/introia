{
 "cells": [
  {
   "cell_type": "markdown",
   "id": "8bd66026",
   "metadata": {},
   "source": [
    "#### Table of Contents\n",
    "\n",
    "1. [Import data](#Import-data)\n",
    "2. [Data exploration](#Data-exploration)"
   ]
  },
  {
   "cell_type": "code",
   "execution_count": 1,
   "id": "548cd691",
   "metadata": {},
   "outputs": [],
   "source": [
    "import pandas as pd\n",
    "import numpy as np\n",
    "import matplotlib.pyplot as plt\n",
    "\n",
    "%matplotlib inline"
   ]
  },
  {
   "cell_type": "markdown",
   "id": "c1dfbd25",
   "metadata": {},
   "source": [
    "#### Import data"
   ]
  },
  {
   "cell_type": "code",
   "execution_count": 2,
   "id": "a91bca5e",
   "metadata": {},
   "outputs": [],
   "source": [
    "datab = pd.read_csv('train_B_text.csv')"
   ]
  },
  {
   "cell_type": "code",
   "execution_count": 3,
   "id": "122dc422",
   "metadata": {},
   "outputs": [
    {
     "data": {
      "text/html": [
       "<div>\n",
       "<style scoped>\n",
       "    .dataframe tbody tr th:only-of-type {\n",
       "        vertical-align: middle;\n",
       "    }\n",
       "\n",
       "    .dataframe tbody tr th {\n",
       "        vertical-align: top;\n",
       "    }\n",
       "\n",
       "    .dataframe thead th {\n",
       "        text-align: right;\n",
       "    }\n",
       "</style>\n",
       "<table border=\"1\" class=\"dataframe\">\n",
       "  <thead>\n",
       "    <tr style=\"text-align: right;\">\n",
       "      <th></th>\n",
       "      <th>Id</th>\n",
       "      <th>Title</th>\n",
       "      <th>Fake/Real</th>\n",
       "    </tr>\n",
       "  </thead>\n",
       "  <tbody>\n",
       "    <tr>\n",
       "      <th>0</th>\n",
       "      <td>0</td>\n",
       "      <td>\"Humanitarian Aid: Volunteers Bring Relief to ...</td>\n",
       "      <td>fake</td>\n",
       "    </tr>\n",
       "    <tr>\n",
       "      <th>1</th>\n",
       "      <td>1</td>\n",
       "      <td>Vegan, Low-Carbohydrate Eco-Atkins Diet could ...</td>\n",
       "      <td>real</td>\n",
       "    </tr>\n",
       "    <tr>\n",
       "      <th>2</th>\n",
       "      <td>2</td>\n",
       "      <td>Fannie, Freddie Score Win Against Conn. Cities...</td>\n",
       "      <td>real</td>\n",
       "    </tr>\n",
       "    <tr>\n",
       "      <th>3</th>\n",
       "      <td>3</td>\n",
       "      <td>'Bachelorette' star Andi Dorfman quits job as ...</td>\n",
       "      <td>real</td>\n",
       "    </tr>\n",
       "    <tr>\n",
       "      <th>4</th>\n",
       "      <td>4</td>\n",
       "      <td>Deconstructing the FCC's Net Neutrality Ruling</td>\n",
       "      <td>real</td>\n",
       "    </tr>\n",
       "    <tr>\n",
       "      <th>...</th>\n",
       "      <td>...</td>\n",
       "      <td>...</td>\n",
       "      <td>...</td>\n",
       "    </tr>\n",
       "    <tr>\n",
       "      <th>3492</th>\n",
       "      <td>3492</td>\n",
       "      <td>WhatsApp CEO: Facebook will not affect privacy...</td>\n",
       "      <td>real</td>\n",
       "    </tr>\n",
       "    <tr>\n",
       "      <th>3493</th>\n",
       "      <td>3493</td>\n",
       "      <td>\"Marine Wonders: Coral Reefs Teeming with Exot...</td>\n",
       "      <td>fake</td>\n",
       "    </tr>\n",
       "    <tr>\n",
       "      <th>3494</th>\n",
       "      <td>3494</td>\n",
       "      <td>\"Space Exploration Milestone: Astronauts Embar...</td>\n",
       "      <td>fake</td>\n",
       "    </tr>\n",
       "    <tr>\n",
       "      <th>3495</th>\n",
       "      <td>3495</td>\n",
       "      <td>Teva Pharmaceutical Industries Ltd (ADR) Recei...</td>\n",
       "      <td>real</td>\n",
       "    </tr>\n",
       "    <tr>\n",
       "      <th>3496</th>\n",
       "      <td>3496</td>\n",
       "      <td>Ford to replace CEO Mulally in 2014</td>\n",
       "      <td>real</td>\n",
       "    </tr>\n",
       "  </tbody>\n",
       "</table>\n",
       "<p>3497 rows × 3 columns</p>\n",
       "</div>"
      ],
      "text/plain": [
       "        Id                                              Title Fake/Real\n",
       "0        0  \"Humanitarian Aid: Volunteers Bring Relief to ...      fake\n",
       "1        1  Vegan, Low-Carbohydrate Eco-Atkins Diet could ...      real\n",
       "2        2  Fannie, Freddie Score Win Against Conn. Cities...      real\n",
       "3        3  'Bachelorette' star Andi Dorfman quits job as ...      real\n",
       "4        4     Deconstructing the FCC's Net Neutrality Ruling      real\n",
       "...    ...                                                ...       ...\n",
       "3492  3492  WhatsApp CEO: Facebook will not affect privacy...      real\n",
       "3493  3493  \"Marine Wonders: Coral Reefs Teeming with Exot...      fake\n",
       "3494  3494  \"Space Exploration Milestone: Astronauts Embar...      fake\n",
       "3495  3495  Teva Pharmaceutical Industries Ltd (ADR) Recei...      real\n",
       "3496  3496                Ford to replace CEO Mulally in 2014      real\n",
       "\n",
       "[3497 rows x 3 columns]"
      ]
     },
     "execution_count": 3,
     "metadata": {},
     "output_type": "execute_result"
    }
   ],
   "source": [
    "datab"
   ]
  },
  {
   "cell_type": "markdown",
   "id": "975c5d17",
   "metadata": {},
   "source": [
    "#### Data exploration"
   ]
  },
  {
   "cell_type": "code",
   "execution_count": 4,
   "id": "15b2c306",
   "metadata": {},
   "outputs": [
    {
     "data": {
      "text/plain": [
       "'Vegan, Low-Carbohydrate Eco-Atkins Diet could Reduce Heart Disease Risk'"
      ]
     },
     "execution_count": 4,
     "metadata": {},
     "output_type": "execute_result"
    }
   ],
   "source": [
    "datab.loc[1]['Title']"
   ]
  },
  {
   "cell_type": "code",
   "execution_count": 5,
   "id": "2beec192",
   "metadata": {},
   "outputs": [],
   "source": [
    "fake_titles = datab[datab['Fake/Real'] == 'fake']['Title'].to_list()"
   ]
  },
  {
   "cell_type": "code",
   "execution_count": 6,
   "id": "65f473b2",
   "metadata": {},
   "outputs": [
    {
     "data": {
      "text/plain": [
       "'\"Remembering Frankie Knuckles: A Tribute to the Iconic DJ\"'"
      ]
     },
     "execution_count": 6,
     "metadata": {},
     "output_type": "execute_result"
    }
   ],
   "source": [
    "fake_titles[298]"
   ]
  },
  {
   "cell_type": "code",
   "execution_count": 7,
   "id": "fa6acb76",
   "metadata": {},
   "outputs": [],
   "source": [
    "real_titles = datab[datab['Fake/Real'] == 'real']['Title'].to_list()"
   ]
  },
  {
   "cell_type": "code",
   "execution_count": 8,
   "id": "a53362aa",
   "metadata": {},
   "outputs": [
    {
     "data": {
      "text/plain": [
       "\"UCLA Health System's Hospitals Ranked Among Nation's Best\""
      ]
     },
     "execution_count": 8,
     "metadata": {},
     "output_type": "execute_result"
    }
   ],
   "source": [
    "real_titles[100]"
   ]
  },
  {
   "cell_type": "code",
   "execution_count": 9,
   "id": "8648db63",
   "metadata": {},
   "outputs": [
    {
     "data": {
      "image/png": "[encoded data removed]",
      "text/plain": [
       "<Figure size 432x288 with 1 Axes>"
      ]
     },
     "metadata": {},
     "output_type": "display_data"
    }
   ],
   "source": [
    "# Count the occurrences of each label\n",
    "label_counts = datab['Fake/Real'].value_counts()\n",
    "\n",
    "# Create a pie chart\n",
    "plt.pie(label_counts, labels=label_counts.index, autopct='%1.1f%%', startangle=140, colors=['green', 'red'])\n",
    "\n",
    "# Draw a circle at the center to make it look like a pie\n",
    "centre_circle = plt.Circle((0, 0), 0.70, fc='white')\n",
    "fig = plt.gcf()\n",
    "fig.gca().add_artist(centre_circle)\n",
    "plt.axis('equal')  \n",
    "\n",
    "# Display the plot\n",
    "plt.title('Distribution of real and fake news headlines')\n",
    "plt.show()"
   ]
  },
  {
   "cell_type": "markdown",
   "id": "8d941106",
   "metadata": {},
   "source": [
    "Let's see if the length of the headline is somehow a good feature in order to classify them. Let's make some data exploration"
   ]
  },
  {
   "cell_type": "code",
   "execution_count": 10,
   "id": "70eb3925",
   "metadata": {},
   "outputs": [
    {
     "data": {
      "text/plain": [
       "'Vegan, Low-Carbohydrate Eco-Atkins Diet could Reduce Heart Disease Risk'"
      ]
     },
     "execution_count": 10,
     "metadata": {},
     "output_type": "execute_result"
    }
   ],
   "source": [
    "datab.loc[1]['Title']"
   ]
  },
  {
   "cell_type": "markdown",
   "id": "d547dbbd",
   "metadata": {},
   "source": [
    "We will need to erease all the starting ' \" from the headlines to have plain strings"
   ]
  },
  {
   "cell_type": "code",
   "execution_count": 11,
   "id": "0a5cbc3e",
   "metadata": {},
   "outputs": [
    {
     "name": "stdout",
     "output_type": "stream",
     "text": [
      "Humanitarian Aid: Volunteers Bring Relief to Disaster-Hit Communities\n"
     ]
    }
   ],
   "source": [
    "print(datab.loc[0]['Title'].strip('\\\"'))"
   ]
  },
  {
   "cell_type": "code",
   "execution_count": 12,
   "id": "16d9678e",
   "metadata": {},
   "outputs": [],
   "source": [
    "datab['Title'] = datab['Title'].str.strip('\\\"')\n",
    "datab['Title'] = datab['Title'].str.strip('\\'')"
   ]
  },
  {
   "cell_type": "code",
   "execution_count": 13,
   "id": "86b94cce",
   "metadata": {
    "scrolled": true
   },
   "outputs": [
    {
     "data": {
      "text/html": [
       "<div>\n",
       "<style scoped>\n",
       "    .dataframe tbody tr th:only-of-type {\n",
       "        vertical-align: middle;\n",
       "    }\n",
       "\n",
       "    .dataframe tbody tr th {\n",
       "        vertical-align: top;\n",
       "    }\n",
       "\n",
       "    .dataframe thead th {\n",
       "        text-align: right;\n",
       "    }\n",
       "</style>\n",
       "<table border=\"1\" class=\"dataframe\">\n",
       "  <thead>\n",
       "    <tr style=\"text-align: right;\">\n",
       "      <th></th>\n",
       "      <th>Id</th>\n",
       "      <th>Title</th>\n",
       "      <th>Fake/Real</th>\n",
       "    </tr>\n",
       "  </thead>\n",
       "  <tbody>\n",
       "    <tr>\n",
       "      <th>0</th>\n",
       "      <td>0</td>\n",
       "      <td>Humanitarian Aid: Volunteers Bring Relief to D...</td>\n",
       "      <td>fake</td>\n",
       "    </tr>\n",
       "    <tr>\n",
       "      <th>1</th>\n",
       "      <td>1</td>\n",
       "      <td>Vegan, Low-Carbohydrate Eco-Atkins Diet could ...</td>\n",
       "      <td>real</td>\n",
       "    </tr>\n",
       "    <tr>\n",
       "      <th>2</th>\n",
       "      <td>2</td>\n",
       "      <td>Fannie, Freddie Score Win Against Conn. Cities...</td>\n",
       "      <td>real</td>\n",
       "    </tr>\n",
       "    <tr>\n",
       "      <th>3</th>\n",
       "      <td>3</td>\n",
       "      <td>Bachelorette' star Andi Dorfman quits job as a...</td>\n",
       "      <td>real</td>\n",
       "    </tr>\n",
       "    <tr>\n",
       "      <th>4</th>\n",
       "      <td>4</td>\n",
       "      <td>Deconstructing the FCC's Net Neutrality Ruling</td>\n",
       "      <td>real</td>\n",
       "    </tr>\n",
       "  </tbody>\n",
       "</table>\n",
       "</div>"
      ],
      "text/plain": [
       "   Id                                              Title Fake/Real\n",
       "0   0  Humanitarian Aid: Volunteers Bring Relief to D...      fake\n",
       "1   1  Vegan, Low-Carbohydrate Eco-Atkins Diet could ...      real\n",
       "2   2  Fannie, Freddie Score Win Against Conn. Cities...      real\n",
       "3   3  Bachelorette' star Andi Dorfman quits job as a...      real\n",
       "4   4     Deconstructing the FCC's Net Neutrality Ruling      real"
      ]
     },
     "execution_count": 13,
     "metadata": {},
     "output_type": "execute_result"
    }
   ],
   "source": [
    "datab.head()"
   ]
  },
  {
   "cell_type": "markdown",
   "id": "ff620c2a",
   "metadata": {},
   "source": [
    "We need to change column Fake/Real to boolean values 0 and 1 respectively."
   ]
  },
  {
   "cell_type": "code",
   "execution_count": 14,
   "id": "e70171eb",
   "metadata": {},
   "outputs": [],
   "source": [
    "datab['Fake/Real'] = datab['Fake/Real'].replace({'fake': 0, 'real': 1})\n",
    "datab.rename(columns={'Fake/Real': 'real'}, inplace=True)"
   ]
  },
  {
   "cell_type": "code",
   "execution_count": 15,
   "id": "6e25d986",
   "metadata": {},
   "outputs": [
    {
     "data": {
      "text/html": [
       "<div>\n",
       "<style scoped>\n",
       "    .dataframe tbody tr th:only-of-type {\n",
       "        vertical-align: middle;\n",
       "    }\n",
       "\n",
       "    .dataframe tbody tr th {\n",
       "        vertical-align: top;\n",
       "    }\n",
       "\n",
       "    .dataframe thead th {\n",
       "        text-align: right;\n",
       "    }\n",
       "</style>\n",
       "<table border=\"1\" class=\"dataframe\">\n",
       "  <thead>\n",
       "    <tr style=\"text-align: right;\">\n",
       "      <th></th>\n",
       "      <th>Id</th>\n",
       "      <th>Title</th>\n",
       "      <th>real</th>\n",
       "    </tr>\n",
       "  </thead>\n",
       "  <tbody>\n",
       "    <tr>\n",
       "      <th>0</th>\n",
       "      <td>0</td>\n",
       "      <td>Humanitarian Aid: Volunteers Bring Relief to D...</td>\n",
       "      <td>0</td>\n",
       "    </tr>\n",
       "    <tr>\n",
       "      <th>1</th>\n",
       "      <td>1</td>\n",
       "      <td>Vegan, Low-Carbohydrate Eco-Atkins Diet could ...</td>\n",
       "      <td>1</td>\n",
       "    </tr>\n",
       "    <tr>\n",
       "      <th>2</th>\n",
       "      <td>2</td>\n",
       "      <td>Fannie, Freddie Score Win Against Conn. Cities...</td>\n",
       "      <td>1</td>\n",
       "    </tr>\n",
       "    <tr>\n",
       "      <th>3</th>\n",
       "      <td>3</td>\n",
       "      <td>Bachelorette' star Andi Dorfman quits job as a...</td>\n",
       "      <td>1</td>\n",
       "    </tr>\n",
       "    <tr>\n",
       "      <th>4</th>\n",
       "      <td>4</td>\n",
       "      <td>Deconstructing the FCC's Net Neutrality Ruling</td>\n",
       "      <td>1</td>\n",
       "    </tr>\n",
       "    <tr>\n",
       "      <th>...</th>\n",
       "      <td>...</td>\n",
       "      <td>...</td>\n",
       "      <td>...</td>\n",
       "    </tr>\n",
       "    <tr>\n",
       "      <th>3492</th>\n",
       "      <td>3492</td>\n",
       "      <td>WhatsApp CEO: Facebook will not affect privacy...</td>\n",
       "      <td>1</td>\n",
       "    </tr>\n",
       "    <tr>\n",
       "      <th>3493</th>\n",
       "      <td>3493</td>\n",
       "      <td>Marine Wonders: Coral Reefs Teeming with Exoti...</td>\n",
       "      <td>0</td>\n",
       "    </tr>\n",
       "    <tr>\n",
       "      <th>3494</th>\n",
       "      <td>3494</td>\n",
       "      <td>Space Exploration Milestone: Astronauts Embark...</td>\n",
       "      <td>0</td>\n",
       "    </tr>\n",
       "    <tr>\n",
       "      <th>3495</th>\n",
       "      <td>3495</td>\n",
       "      <td>Teva Pharmaceutical Industries Ltd (ADR) Recei...</td>\n",
       "      <td>1</td>\n",
       "    </tr>\n",
       "    <tr>\n",
       "      <th>3496</th>\n",
       "      <td>3496</td>\n",
       "      <td>Ford to replace CEO Mulally in 2014</td>\n",
       "      <td>1</td>\n",
       "    </tr>\n",
       "  </tbody>\n",
       "</table>\n",
       "<p>3497 rows × 3 columns</p>\n",
       "</div>"
      ],
      "text/plain": [
       "        Id                                              Title  real\n",
       "0        0  Humanitarian Aid: Volunteers Bring Relief to D...     0\n",
       "1        1  Vegan, Low-Carbohydrate Eco-Atkins Diet could ...     1\n",
       "2        2  Fannie, Freddie Score Win Against Conn. Cities...     1\n",
       "3        3  Bachelorette' star Andi Dorfman quits job as a...     1\n",
       "4        4     Deconstructing the FCC's Net Neutrality Ruling     1\n",
       "...    ...                                                ...   ...\n",
       "3492  3492  WhatsApp CEO: Facebook will not affect privacy...     1\n",
       "3493  3493  Marine Wonders: Coral Reefs Teeming with Exoti...     0\n",
       "3494  3494  Space Exploration Milestone: Astronauts Embark...     0\n",
       "3495  3495  Teva Pharmaceutical Industries Ltd (ADR) Recei...     1\n",
       "3496  3496                Ford to replace CEO Mulally in 2014     1\n",
       "\n",
       "[3497 rows x 3 columns]"
      ]
     },
     "execution_count": 15,
     "metadata": {},
     "output_type": "execute_result"
    }
   ],
   "source": [
    "datab"
   ]
  },
  {
   "cell_type": "markdown",
   "id": "90ee5631",
   "metadata": {},
   "source": [
    "#### Feature extraction\n",
    "##### Tokenization\n",
    "Take one string, for example the corresponding to the first entry, and tokenize it."
   ]
  },
  {
   "cell_type": "code",
   "execution_count": 16,
   "id": "2e93c0e1",
   "metadata": {},
   "outputs": [
    {
     "name": "stdout",
     "output_type": "stream",
     "text": [
      "Humanitarian Aid: Volunteers Bring Relief to Disaster-Hit Communities\n"
     ]
    }
   ],
   "source": [
    "ex_str = datab.loc[0]['Title']\n",
    "print(ex_str)"
   ]
  },
  {
   "cell_type": "code",
   "execution_count": 17,
   "id": "d4935bab",
   "metadata": {},
   "outputs": [
    {
     "name": "stdout",
     "output_type": "stream",
     "text": [
      "Example: Humanitarian Aid: Volunteers Bring Relief to Disaster-Hit Communities\n",
      "\n",
      "Preprocessed: humanitarian aid: volunteers bring relief to disaster-hit communities\n",
      "\n",
      "Tokenized:['Humanitarian', 'Aid', 'Volunteers', 'Bring', 'Relief', 'to', 'Disaster', 'Hit', 'Communities']\n",
      "\n",
      "Analyzed data string:['humanitarian', 'aid', 'volunteers', 'bring', 'relief', 'disaster', 'hit', 'communities']\n",
      "\n"
     ]
    }
   ],
   "source": [
    "from sklearn.feature_extraction.text import CountVectorizer\n",
    "\n",
    "vectorizer = CountVectorizer(min_df=2, stop_words = 'english', strip_accents = 'unicode')\n",
    "print (\"Example: \" + ex_str +\"\\n\")\n",
    "print (\"Preprocessed: \" + vectorizer.build_preprocessor()(ex_str)+\"\\n\")\n",
    "print (\"Tokenized:\" + str(vectorizer.build_tokenizer()(ex_str))+\"\\n\")\n",
    "print (\"Analyzed data string:\" + str(vectorizer.build_analyzer()(ex_str))+\"\\n\")"
   ]
  },
  {
   "cell_type": "code",
   "execution_count": 18,
   "id": "5dc4f10c",
   "metadata": {},
   "outputs": [],
   "source": [
    "# Tokenize the 'Title' column and store the result in a new column 'tokenized_title'\n",
    "datab['tokenized_title'] = datab['Title'].apply(lambda x: ' '.join(vectorizer.build_analyzer()(x)))"
   ]
  },
  {
   "cell_type": "code",
   "execution_count": 19,
   "id": "872911b0",
   "metadata": {},
   "outputs": [
    {
     "data": {
      "text/html": [
       "<div>\n",
       "<style scoped>\n",
       "    .dataframe tbody tr th:only-of-type {\n",
       "        vertical-align: middle;\n",
       "    }\n",
       "\n",
       "    .dataframe tbody tr th {\n",
       "        vertical-align: top;\n",
       "    }\n",
       "\n",
       "    .dataframe thead th {\n",
       "        text-align: right;\n",
       "    }\n",
       "</style>\n",
       "<table border=\"1\" class=\"dataframe\">\n",
       "  <thead>\n",
       "    <tr style=\"text-align: right;\">\n",
       "      <th></th>\n",
       "      <th>Id</th>\n",
       "      <th>Title</th>\n",
       "      <th>real</th>\n",
       "      <th>tokenized_title</th>\n",
       "    </tr>\n",
       "  </thead>\n",
       "  <tbody>\n",
       "    <tr>\n",
       "      <th>0</th>\n",
       "      <td>0</td>\n",
       "      <td>Humanitarian Aid: Volunteers Bring Relief to D...</td>\n",
       "      <td>0</td>\n",
       "      <td>humanitarian aid volunteers bring relief disas...</td>\n",
       "    </tr>\n",
       "    <tr>\n",
       "      <th>1</th>\n",
       "      <td>1</td>\n",
       "      <td>Vegan, Low-Carbohydrate Eco-Atkins Diet could ...</td>\n",
       "      <td>1</td>\n",
       "      <td>vegan low carbohydrate eco atkins diet reduce ...</td>\n",
       "    </tr>\n",
       "    <tr>\n",
       "      <th>2</th>\n",
       "      <td>2</td>\n",
       "      <td>Fannie, Freddie Score Win Against Conn. Cities...</td>\n",
       "      <td>1</td>\n",
       "      <td>fannie freddie score win conn cities tax row</td>\n",
       "    </tr>\n",
       "    <tr>\n",
       "      <th>3</th>\n",
       "      <td>3</td>\n",
       "      <td>Bachelorette' star Andi Dorfman quits job as a...</td>\n",
       "      <td>1</td>\n",
       "      <td>bachelorette star andi dorfman quits job assis...</td>\n",
       "    </tr>\n",
       "    <tr>\n",
       "      <th>4</th>\n",
       "      <td>4</td>\n",
       "      <td>Deconstructing the FCC's Net Neutrality Ruling</td>\n",
       "      <td>1</td>\n",
       "      <td>deconstructing fcc net neutrality ruling</td>\n",
       "    </tr>\n",
       "    <tr>\n",
       "      <th>...</th>\n",
       "      <td>...</td>\n",
       "      <td>...</td>\n",
       "      <td>...</td>\n",
       "      <td>...</td>\n",
       "    </tr>\n",
       "    <tr>\n",
       "      <th>3492</th>\n",
       "      <td>3492</td>\n",
       "      <td>WhatsApp CEO: Facebook will not affect privacy...</td>\n",
       "      <td>1</td>\n",
       "      <td>whatsapp ceo facebook affect privacy stance</td>\n",
       "    </tr>\n",
       "    <tr>\n",
       "      <th>3493</th>\n",
       "      <td>3493</td>\n",
       "      <td>Marine Wonders: Coral Reefs Teeming with Exoti...</td>\n",
       "      <td>0</td>\n",
       "      <td>marine wonders coral reefs teeming exotic unde...</td>\n",
       "    </tr>\n",
       "    <tr>\n",
       "      <th>3494</th>\n",
       "      <td>3494</td>\n",
       "      <td>Space Exploration Milestone: Astronauts Embark...</td>\n",
       "      <td>0</td>\n",
       "      <td>space exploration milestone astronauts embark ...</td>\n",
       "    </tr>\n",
       "    <tr>\n",
       "      <th>3495</th>\n",
       "      <td>3495</td>\n",
       "      <td>Teva Pharmaceutical Industries Ltd (ADR) Recei...</td>\n",
       "      <td>1</td>\n",
       "      <td>teva pharmaceutical industries adr receives co...</td>\n",
       "    </tr>\n",
       "    <tr>\n",
       "      <th>3496</th>\n",
       "      <td>3496</td>\n",
       "      <td>Ford to replace CEO Mulally in 2014</td>\n",
       "      <td>1</td>\n",
       "      <td>ford replace ceo mulally 2014</td>\n",
       "    </tr>\n",
       "  </tbody>\n",
       "</table>\n",
       "<p>3497 rows × 4 columns</p>\n",
       "</div>"
      ],
      "text/plain": [
       "        Id                                              Title  real  \\\n",
       "0        0  Humanitarian Aid: Volunteers Bring Relief to D...     0   \n",
       "1        1  Vegan, Low-Carbohydrate Eco-Atkins Diet could ...     1   \n",
       "2        2  Fannie, Freddie Score Win Against Conn. Cities...     1   \n",
       "3        3  Bachelorette' star Andi Dorfman quits job as a...     1   \n",
       "4        4     Deconstructing the FCC's Net Neutrality Ruling     1   \n",
       "...    ...                                                ...   ...   \n",
       "3492  3492  WhatsApp CEO: Facebook will not affect privacy...     1   \n",
       "3493  3493  Marine Wonders: Coral Reefs Teeming with Exoti...     0   \n",
       "3494  3494  Space Exploration Milestone: Astronauts Embark...     0   \n",
       "3495  3495  Teva Pharmaceutical Industries Ltd (ADR) Recei...     1   \n",
       "3496  3496                Ford to replace CEO Mulally in 2014     1   \n",
       "\n",
       "                                        tokenized_title  \n",
       "0     humanitarian aid volunteers bring relief disas...  \n",
       "1     vegan low carbohydrate eco atkins diet reduce ...  \n",
       "2          fannie freddie score win conn cities tax row  \n",
       "3     bachelorette star andi dorfman quits job assis...  \n",
       "4              deconstructing fcc net neutrality ruling  \n",
       "...                                                 ...  \n",
       "3492        whatsapp ceo facebook affect privacy stance  \n",
       "3493  marine wonders coral reefs teeming exotic unde...  \n",
       "3494  space exploration milestone astronauts embark ...  \n",
       "3495  teva pharmaceutical industries adr receives co...  \n",
       "3496                      ford replace ceo mulally 2014  \n",
       "\n",
       "[3497 rows x 4 columns]"
      ]
     },
     "execution_count": 19,
     "metadata": {},
     "output_type": "execute_result"
    }
   ],
   "source": [
    "datab"
   ]
  },
  {
   "cell_type": "code",
   "execution_count": 20,
   "id": "82370c81",
   "metadata": {},
   "outputs": [
    {
     "name": "stdout",
     "output_type": "stream",
     "text": [
      "              precision    recall  f1-score   support\n",
      "\n",
      "           0       0.90      0.56      0.69       699\n",
      "           1       0.90      0.98      0.94      2798\n",
      "\n",
      "    accuracy                           0.90      3497\n",
      "   macro avg       0.90      0.77      0.82      3497\n",
      "weighted avg       0.90      0.90      0.89      3497\n",
      "\n"
     ]
    }
   ],
   "source": [
    "from sklearn.naive_bayes import BernoulliNB\n",
    "from sklearn.naive_bayes import MultinomialNB\n",
    "from sklearn import metrics\n",
    "from sklearn.metrics import confusion_matrix\n",
    "\n",
    "bnb = BernoulliNB()\n",
    "mnb = MultinomialNB()\n",
    "\n",
    "X_train = vectorizer.fit_transform(datab['tokenized_title'])\n",
    "Y_train = datab['real']\n",
    "\n",
    "#first we will train the Bernoulli Naive Bayes classifier\n",
    "bnb.fit(X_train, Y_train)\n",
    "pred = bnb.predict(X_train)\n",
    "\n",
    "print(metrics.classification_report(Y_train, pred))"
   ]
  },
  {
   "cell_type": "code",
   "execution_count": 21,
   "id": "d97ab2d8",
   "metadata": {},
   "outputs": [
    {
     "name": "stdout",
     "output_type": "stream",
     "text": [
      "              precision    recall  f1-score   support\n",
      "\n",
      "           0       0.83      0.74      0.78       699\n",
      "           1       0.94      0.96      0.95      2798\n",
      "\n",
      "    accuracy                           0.92      3497\n",
      "   macro avg       0.88      0.85      0.87      3497\n",
      "weighted avg       0.92      0.92      0.92      3497\n",
      "\n"
     ]
    }
   ],
   "source": [
    "# now train the Multinomial Naive Bayes classifier\n",
    "mnb.fit(X_train, Y_train)\n",
    "pred = mnb.predict(X_train)\n",
    "\n",
    "print(metrics.classification_report(Y_train, pred))"
   ]
  },
  {
   "cell_type": "markdown",
   "id": "ac411e0b",
   "metadata": {},
   "source": [
    "The multinomial Naive Bayes classifier performs a little bit better than the Bernoulli does."
   ]
  },
  {
   "cell_type": "code",
   "execution_count": 22,
   "id": "a784bdd8",
   "metadata": {},
   "outputs": [
    {
     "name": "stderr",
     "output_type": "stream",
     "text": [
      "<ipython-input-22-0395e555adbb>:8: UserWarning: FixedFormatter should only be used together with FixedLocator\n",
      "  ax.set_xticklabels([''] + labels, size=20)\n",
      "<ipython-input-22-0395e555adbb>:9: UserWarning: FixedFormatter should only be used together with FixedLocator\n",
      "  ax.set_yticklabels([''] + labels, size=20)\n"
     ]
    },
    {
     "data": {
      "image/png": "[encoded data removed]",
      "text/plain": [
       "<Figure size 504x504 with 1 Axes>"
      ]
     },
     "metadata": {
      "needs_background": "light"
     },
     "output_type": "display_data"
    },
    {
     "name": "stdout",
     "output_type": "stream",
     "text": [
      "              precision    recall  f1-score   support\n",
      "\n",
      "           0       0.83      0.74      0.78       699\n",
      "           1       0.94      0.96      0.95      2798\n",
      "\n",
      "    accuracy                           0.92      3497\n",
      "   macro avg       0.88      0.85      0.87      3497\n",
      "weighted avg       0.92      0.92      0.92      3497\n",
      "\n"
     ]
    }
   ],
   "source": [
    "#I take this from Oriol's pills to draw the confusion matrix\n",
    "def draw_confusion(y, yhat, labels):\n",
    "    cm = metrics.confusion_matrix(y, yhat)\n",
    "    fig = plt.figure()\n",
    "    ax = fig.add_subplot(111)\n",
    "    ax.matshow(cm)\n",
    "    plt.title('Confusion matrix',size=20)\n",
    "    ax.set_xticklabels([''] + labels, size=20)\n",
    "    ax.set_yticklabels([''] + labels, size=20)\n",
    "    plt.ylabel('Predicted',size=20)\n",
    "    plt.xlabel('True',size=20)\n",
    "    for i in range(2):\n",
    "        for j in range(2):\n",
    "            ax.text(i, j, cm[i,j], va='center', ha='center',color='white',size=20)\n",
    "    fig.set_size_inches(7,7)\n",
    "    plt.show()\n",
    "    \n",
    "draw_confusion(Y_train, pred, ['fake', 'real'])\n",
    "print (metrics.classification_report(Y_train,pred))"
   ]
  },
  {
   "cell_type": "markdown",
   "id": "f05d62f6",
   "metadata": {},
   "source": [
    "Can we make any other feature extraction to further improve this accuracy? Let us try TF-IDF."
   ]
  },
  {
   "cell_type": "code",
   "execution_count": 23,
   "id": "187ff84d",
   "metadata": {},
   "outputs": [
    {
     "name": "stdout",
     "output_type": "stream",
     "text": [
      "['about', 'anymore', 'be', 'cares', 'creativity', 'drinking', 'enhances', 'is', 'it', 'late', 'nobody', 'on', 'project', 'television', 'this', 'to', 'too', 'vodka', 'working'] \n",
      "\n",
      "[[0.         0.         0.         0.         0.5        0.5\n",
      "  0.5        0.         0.         0.         0.         0.\n",
      "  0.         0.         0.         0.         0.         0.5\n",
      "  0.        ]\n",
      " [0.4472136  0.4472136  0.         0.4472136  0.         0.\n",
      "  0.         0.         0.         0.         0.4472136  0.\n",
      "  0.         0.4472136  0.         0.         0.         0.\n",
      "  0.        ]\n",
      " [0.         0.         0.31622777 0.         0.         0.\n",
      "  0.         0.31622777 0.31622777 0.31622777 0.         0.31622777\n",
      "  0.31622777 0.         0.31622777 0.31622777 0.31622777 0.\n",
      "  0.31622777]]\n"
     ]
    }
   ],
   "source": [
    "from sklearn.feature_extraction.text import TfidfVectorizer\n",
    "\n",
    "headlines = ['Drinking vodka enhances creativity',\n",
    "            'Nobody cares about television anymore',\n",
    "            'It is too late to be working on this project']\n",
    "\n",
    "# Initialize the TF-IDF vectorizer\n",
    "tfidf_vectorizer = TfidfVectorizer()\n",
    "\n",
    "# Fit and transform the headlines to obtain TF-IDF features\n",
    "tfidf_matrix = tfidf_vectorizer.fit_transform(headlines)\n",
    "\n",
    "# Get the feature names (words) and their corresponding TF-IDF values\n",
    "feature_names = tfidf_vectorizer.get_feature_names()\n",
    "tfidf_values = tfidf_matrix.toarray()\n",
    "\n",
    "print(feature_names, '\\n')\n",
    "print(tfidf_values)"
   ]
  },
  {
   "cell_type": "code",
   "execution_count": 24,
   "id": "7022b377",
   "metadata": {},
   "outputs": [
    {
     "name": "stdout",
     "output_type": "stream",
     "text": [
      "[[0.10526316 0.11768779 0.16643567]]\n"
     ]
    }
   ],
   "source": [
    "avg_tfidf_values = np.mean(tfidf_matrix, axis=1).flatten()\n",
    "print(avg_tfidf_values)"
   ]
  },
  {
   "cell_type": "markdown",
   "id": "dd50e8fa",
   "metadata": {},
   "source": [
    "Let us do it for the tokenized titles in the dataframe datab"
   ]
  },
  {
   "cell_type": "code",
   "execution_count": 25,
   "id": "4ee0f013",
   "metadata": {},
   "outputs": [
    {
     "name": "stdout",
     "output_type": "stream",
     "text": [
      "[2.82251078 3.13633019 2.8106086  ... 2.81899023 2.4432535  2.19945002]\n"
     ]
    }
   ],
   "source": [
    "headlines = datab['tokenized_title'].to_numpy()\n",
    "\n",
    "# Initialize the TF-IDF vectorizer\n",
    "tfidf_vectorizer = TfidfVectorizer()\n",
    "\n",
    "# Fit and transform the headlines to obtain TF-IDF features\n",
    "tfidf_matrix = tfidf_vectorizer.fit_transform(headlines)\n",
    "\n",
    "# Sum TF-IDF values along the columns (axis=1) and use toarray() to get a dense matrix\n",
    "sum_tfidf_values = np.sum(tfidf_matrix.toarray(), axis=1)\n",
    "\n",
    "# Print the resulting array\n",
    "print(sum_tfidf_values)"
   ]
  },
  {
   "cell_type": "code",
   "execution_count": 26,
   "id": "7074e47c",
   "metadata": {},
   "outputs": [],
   "source": [
    "datab['tf-idf_score'] = sum_tfidf_values"
   ]
  },
  {
   "cell_type": "code",
   "execution_count": 27,
   "id": "1b4c0fe5",
   "metadata": {},
   "outputs": [
    {
     "data": {
      "text/html": [
       "<div>\n",
       "<style scoped>\n",
       "    .dataframe tbody tr th:only-of-type {\n",
       "        vertical-align: middle;\n",
       "    }\n",
       "\n",
       "    .dataframe tbody tr th {\n",
       "        vertical-align: top;\n",
       "    }\n",
       "\n",
       "    .dataframe thead th {\n",
       "        text-align: right;\n",
       "    }\n",
       "</style>\n",
       "<table border=\"1\" class=\"dataframe\">\n",
       "  <thead>\n",
       "    <tr style=\"text-align: right;\">\n",
       "      <th></th>\n",
       "      <th>Id</th>\n",
       "      <th>Title</th>\n",
       "      <th>real</th>\n",
       "      <th>tokenized_title</th>\n",
       "      <th>tf-idf_score</th>\n",
       "    </tr>\n",
       "  </thead>\n",
       "  <tbody>\n",
       "    <tr>\n",
       "      <th>0</th>\n",
       "      <td>0</td>\n",
       "      <td>Humanitarian Aid: Volunteers Bring Relief to D...</td>\n",
       "      <td>0</td>\n",
       "      <td>humanitarian aid volunteers bring relief disas...</td>\n",
       "      <td>2.822511</td>\n",
       "    </tr>\n",
       "    <tr>\n",
       "      <th>1</th>\n",
       "      <td>1</td>\n",
       "      <td>Vegan, Low-Carbohydrate Eco-Atkins Diet could ...</td>\n",
       "      <td>1</td>\n",
       "      <td>vegan low carbohydrate eco atkins diet reduce ...</td>\n",
       "      <td>3.136330</td>\n",
       "    </tr>\n",
       "    <tr>\n",
       "      <th>2</th>\n",
       "      <td>2</td>\n",
       "      <td>Fannie, Freddie Score Win Against Conn. Cities...</td>\n",
       "      <td>1</td>\n",
       "      <td>fannie freddie score win conn cities tax row</td>\n",
       "      <td>2.810609</td>\n",
       "    </tr>\n",
       "    <tr>\n",
       "      <th>3</th>\n",
       "      <td>3</td>\n",
       "      <td>Bachelorette' star Andi Dorfman quits job as a...</td>\n",
       "      <td>1</td>\n",
       "      <td>bachelorette star andi dorfman quits job assis...</td>\n",
       "      <td>3.263360</td>\n",
       "    </tr>\n",
       "    <tr>\n",
       "      <th>4</th>\n",
       "      <td>4</td>\n",
       "      <td>Deconstructing the FCC's Net Neutrality Ruling</td>\n",
       "      <td>1</td>\n",
       "      <td>deconstructing fcc net neutrality ruling</td>\n",
       "      <td>2.207722</td>\n",
       "    </tr>\n",
       "    <tr>\n",
       "      <th>...</th>\n",
       "      <td>...</td>\n",
       "      <td>...</td>\n",
       "      <td>...</td>\n",
       "      <td>...</td>\n",
       "      <td>...</td>\n",
       "    </tr>\n",
       "    <tr>\n",
       "      <th>3492</th>\n",
       "      <td>3492</td>\n",
       "      <td>WhatsApp CEO: Facebook will not affect privacy...</td>\n",
       "      <td>1</td>\n",
       "      <td>whatsapp ceo facebook affect privacy stance</td>\n",
       "      <td>2.414533</td>\n",
       "    </tr>\n",
       "    <tr>\n",
       "      <th>3493</th>\n",
       "      <td>3493</td>\n",
       "      <td>Marine Wonders: Coral Reefs Teeming with Exoti...</td>\n",
       "      <td>0</td>\n",
       "      <td>marine wonders coral reefs teeming exotic unde...</td>\n",
       "      <td>2.817860</td>\n",
       "    </tr>\n",
       "    <tr>\n",
       "      <th>3494</th>\n",
       "      <td>3494</td>\n",
       "      <td>Space Exploration Milestone: Astronauts Embark...</td>\n",
       "      <td>0</td>\n",
       "      <td>space exploration milestone astronauts embark ...</td>\n",
       "      <td>2.818990</td>\n",
       "    </tr>\n",
       "    <tr>\n",
       "      <th>3495</th>\n",
       "      <td>3495</td>\n",
       "      <td>Teva Pharmaceutical Industries Ltd (ADR) Recei...</td>\n",
       "      <td>1</td>\n",
       "      <td>teva pharmaceutical industries adr receives co...</td>\n",
       "      <td>2.443254</td>\n",
       "    </tr>\n",
       "    <tr>\n",
       "      <th>3496</th>\n",
       "      <td>3496</td>\n",
       "      <td>Ford to replace CEO Mulally in 2014</td>\n",
       "      <td>1</td>\n",
       "      <td>ford replace ceo mulally 2014</td>\n",
       "      <td>2.199450</td>\n",
       "    </tr>\n",
       "  </tbody>\n",
       "</table>\n",
       "<p>3497 rows × 5 columns</p>\n",
       "</div>"
      ],
      "text/plain": [
       "        Id                                              Title  real  \\\n",
       "0        0  Humanitarian Aid: Volunteers Bring Relief to D...     0   \n",
       "1        1  Vegan, Low-Carbohydrate Eco-Atkins Diet could ...     1   \n",
       "2        2  Fannie, Freddie Score Win Against Conn. Cities...     1   \n",
       "3        3  Bachelorette' star Andi Dorfman quits job as a...     1   \n",
       "4        4     Deconstructing the FCC's Net Neutrality Ruling     1   \n",
       "...    ...                                                ...   ...   \n",
       "3492  3492  WhatsApp CEO: Facebook will not affect privacy...     1   \n",
       "3493  3493  Marine Wonders: Coral Reefs Teeming with Exoti...     0   \n",
       "3494  3494  Space Exploration Milestone: Astronauts Embark...     0   \n",
       "3495  3495  Teva Pharmaceutical Industries Ltd (ADR) Recei...     1   \n",
       "3496  3496                Ford to replace CEO Mulally in 2014     1   \n",
       "\n",
       "                                        tokenized_title  tf-idf_score  \n",
       "0     humanitarian aid volunteers bring relief disas...      2.822511  \n",
       "1     vegan low carbohydrate eco atkins diet reduce ...      3.136330  \n",
       "2          fannie freddie score win conn cities tax row      2.810609  \n",
       "3     bachelorette star andi dorfman quits job assis...      3.263360  \n",
       "4              deconstructing fcc net neutrality ruling      2.207722  \n",
       "...                                                 ...           ...  \n",
       "3492        whatsapp ceo facebook affect privacy stance      2.414533  \n",
       "3493  marine wonders coral reefs teeming exotic unde...      2.817860  \n",
       "3494  space exploration milestone astronauts embark ...      2.818990  \n",
       "3495  teva pharmaceutical industries adr receives co...      2.443254  \n",
       "3496                      ford replace ceo mulally 2014      2.199450  \n",
       "\n",
       "[3497 rows x 5 columns]"
      ]
     },
     "execution_count": 27,
     "metadata": {},
     "output_type": "execute_result"
    }
   ],
   "source": [
    "datab"
   ]
  },
  {
   "cell_type": "code",
   "execution_count": 28,
   "id": "b02d0d79",
   "metadata": {},
   "outputs": [],
   "source": [
    "datab['combine_features'] = datab['tokenized_title'] + ' ' + datab['tf-idf_score'].astype(str)"
   ]
  },
  {
   "cell_type": "code",
   "execution_count": 29,
   "id": "c4772bf9",
   "metadata": {},
   "outputs": [
    {
     "data": {
      "text/html": [
       "<div>\n",
       "<style scoped>\n",
       "    .dataframe tbody tr th:only-of-type {\n",
       "        vertical-align: middle;\n",
       "    }\n",
       "\n",
       "    .dataframe tbody tr th {\n",
       "        vertical-align: top;\n",
       "    }\n",
       "\n",
       "    .dataframe thead th {\n",
       "        text-align: right;\n",
       "    }\n",
       "</style>\n",
       "<table border=\"1\" class=\"dataframe\">\n",
       "  <thead>\n",
       "    <tr style=\"text-align: right;\">\n",
       "      <th></th>\n",
       "      <th>Id</th>\n",
       "      <th>Title</th>\n",
       "      <th>real</th>\n",
       "      <th>tokenized_title</th>\n",
       "      <th>tf-idf_score</th>\n",
       "      <th>combine_features</th>\n",
       "    </tr>\n",
       "  </thead>\n",
       "  <tbody>\n",
       "    <tr>\n",
       "      <th>0</th>\n",
       "      <td>0</td>\n",
       "      <td>Humanitarian Aid: Volunteers Bring Relief to D...</td>\n",
       "      <td>0</td>\n",
       "      <td>humanitarian aid volunteers bring relief disas...</td>\n",
       "      <td>2.822511</td>\n",
       "      <td>humanitarian aid volunteers bring relief disas...</td>\n",
       "    </tr>\n",
       "    <tr>\n",
       "      <th>1</th>\n",
       "      <td>1</td>\n",
       "      <td>Vegan, Low-Carbohydrate Eco-Atkins Diet could ...</td>\n",
       "      <td>1</td>\n",
       "      <td>vegan low carbohydrate eco atkins diet reduce ...</td>\n",
       "      <td>3.136330</td>\n",
       "      <td>vegan low carbohydrate eco atkins diet reduce ...</td>\n",
       "    </tr>\n",
       "    <tr>\n",
       "      <th>2</th>\n",
       "      <td>2</td>\n",
       "      <td>Fannie, Freddie Score Win Against Conn. Cities...</td>\n",
       "      <td>1</td>\n",
       "      <td>fannie freddie score win conn cities tax row</td>\n",
       "      <td>2.810609</td>\n",
       "      <td>fannie freddie score win conn cities tax row 2...</td>\n",
       "    </tr>\n",
       "    <tr>\n",
       "      <th>3</th>\n",
       "      <td>3</td>\n",
       "      <td>Bachelorette' star Andi Dorfman quits job as a...</td>\n",
       "      <td>1</td>\n",
       "      <td>bachelorette star andi dorfman quits job assis...</td>\n",
       "      <td>3.263360</td>\n",
       "      <td>bachelorette star andi dorfman quits job assis...</td>\n",
       "    </tr>\n",
       "    <tr>\n",
       "      <th>4</th>\n",
       "      <td>4</td>\n",
       "      <td>Deconstructing the FCC's Net Neutrality Ruling</td>\n",
       "      <td>1</td>\n",
       "      <td>deconstructing fcc net neutrality ruling</td>\n",
       "      <td>2.207722</td>\n",
       "      <td>deconstructing fcc net neutrality ruling 2.207...</td>\n",
       "    </tr>\n",
       "    <tr>\n",
       "      <th>...</th>\n",
       "      <td>...</td>\n",
       "      <td>...</td>\n",
       "      <td>...</td>\n",
       "      <td>...</td>\n",
       "      <td>...</td>\n",
       "      <td>...</td>\n",
       "    </tr>\n",
       "    <tr>\n",
       "      <th>3492</th>\n",
       "      <td>3492</td>\n",
       "      <td>WhatsApp CEO: Facebook will not affect privacy...</td>\n",
       "      <td>1</td>\n",
       "      <td>whatsapp ceo facebook affect privacy stance</td>\n",
       "      <td>2.414533</td>\n",
       "      <td>whatsapp ceo facebook affect privacy stance 2....</td>\n",
       "    </tr>\n",
       "    <tr>\n",
       "      <th>3493</th>\n",
       "      <td>3493</td>\n",
       "      <td>Marine Wonders: Coral Reefs Teeming with Exoti...</td>\n",
       "      <td>0</td>\n",
       "      <td>marine wonders coral reefs teeming exotic unde...</td>\n",
       "      <td>2.817860</td>\n",
       "      <td>marine wonders coral reefs teeming exotic unde...</td>\n",
       "    </tr>\n",
       "    <tr>\n",
       "      <th>3494</th>\n",
       "      <td>3494</td>\n",
       "      <td>Space Exploration Milestone: Astronauts Embark...</td>\n",
       "      <td>0</td>\n",
       "      <td>space exploration milestone astronauts embark ...</td>\n",
       "      <td>2.818990</td>\n",
       "      <td>space exploration milestone astronauts embark ...</td>\n",
       "    </tr>\n",
       "    <tr>\n",
       "      <th>3495</th>\n",
       "      <td>3495</td>\n",
       "      <td>Teva Pharmaceutical Industries Ltd (ADR) Recei...</td>\n",
       "      <td>1</td>\n",
       "      <td>teva pharmaceutical industries adr receives co...</td>\n",
       "      <td>2.443254</td>\n",
       "      <td>teva pharmaceutical industries adr receives co...</td>\n",
       "    </tr>\n",
       "    <tr>\n",
       "      <th>3496</th>\n",
       "      <td>3496</td>\n",
       "      <td>Ford to replace CEO Mulally in 2014</td>\n",
       "      <td>1</td>\n",
       "      <td>ford replace ceo mulally 2014</td>\n",
       "      <td>2.199450</td>\n",
       "      <td>ford replace ceo mulally 2014 2.199450016554447</td>\n",
       "    </tr>\n",
       "  </tbody>\n",
       "</table>\n",
       "<p>3497 rows × 6 columns</p>\n",
       "</div>"
      ],
      "text/plain": [
       "        Id                                              Title  real  \\\n",
       "0        0  Humanitarian Aid: Volunteers Bring Relief to D...     0   \n",
       "1        1  Vegan, Low-Carbohydrate Eco-Atkins Diet could ...     1   \n",
       "2        2  Fannie, Freddie Score Win Against Conn. Cities...     1   \n",
       "3        3  Bachelorette' star Andi Dorfman quits job as a...     1   \n",
       "4        4     Deconstructing the FCC's Net Neutrality Ruling     1   \n",
       "...    ...                                                ...   ...   \n",
       "3492  3492  WhatsApp CEO: Facebook will not affect privacy...     1   \n",
       "3493  3493  Marine Wonders: Coral Reefs Teeming with Exoti...     0   \n",
       "3494  3494  Space Exploration Milestone: Astronauts Embark...     0   \n",
       "3495  3495  Teva Pharmaceutical Industries Ltd (ADR) Recei...     1   \n",
       "3496  3496                Ford to replace CEO Mulally in 2014     1   \n",
       "\n",
       "                                        tokenized_title  tf-idf_score  \\\n",
       "0     humanitarian aid volunteers bring relief disas...      2.822511   \n",
       "1     vegan low carbohydrate eco atkins diet reduce ...      3.136330   \n",
       "2          fannie freddie score win conn cities tax row      2.810609   \n",
       "3     bachelorette star andi dorfman quits job assis...      3.263360   \n",
       "4              deconstructing fcc net neutrality ruling      2.207722   \n",
       "...                                                 ...           ...   \n",
       "3492        whatsapp ceo facebook affect privacy stance      2.414533   \n",
       "3493  marine wonders coral reefs teeming exotic unde...      2.817860   \n",
       "3494  space exploration milestone astronauts embark ...      2.818990   \n",
       "3495  teva pharmaceutical industries adr receives co...      2.443254   \n",
       "3496                      ford replace ceo mulally 2014      2.199450   \n",
       "\n",
       "                                       combine_features  \n",
       "0     humanitarian aid volunteers bring relief disas...  \n",
       "1     vegan low carbohydrate eco atkins diet reduce ...  \n",
       "2     fannie freddie score win conn cities tax row 2...  \n",
       "3     bachelorette star andi dorfman quits job assis...  \n",
       "4     deconstructing fcc net neutrality ruling 2.207...  \n",
       "...                                                 ...  \n",
       "3492  whatsapp ceo facebook affect privacy stance 2....  \n",
       "3493  marine wonders coral reefs teeming exotic unde...  \n",
       "3494  space exploration milestone astronauts embark ...  \n",
       "3495  teva pharmaceutical industries adr receives co...  \n",
       "3496    ford replace ceo mulally 2014 2.199450016554447  \n",
       "\n",
       "[3497 rows x 6 columns]"
      ]
     },
     "execution_count": 29,
     "metadata": {},
     "output_type": "execute_result"
    }
   ],
   "source": [
    "datab"
   ]
  },
  {
   "cell_type": "code",
   "execution_count": 30,
   "id": "af9ba160",
   "metadata": {},
   "outputs": [
    {
     "name": "stdout",
     "output_type": "stream",
     "text": [
      "              precision    recall  f1-score   support\n",
      "\n",
      "           0       0.84      0.74      0.78       699\n",
      "           1       0.94      0.96      0.95      2798\n",
      "\n",
      "    accuracy                           0.92      3497\n",
      "   macro avg       0.89      0.85      0.87      3497\n",
      "weighted avg       0.92      0.92      0.92      3497\n",
      "\n"
     ]
    }
   ],
   "source": [
    "mnb = MultinomialNB()\n",
    "\n",
    "X_train = vectorizer.fit_transform(datab['combine_features'])\n",
    "Y_train = datab['real']\n",
    "\n",
    "\n",
    "mnb.fit(X_train, Y_train)\n",
    "pred = mnb.predict(X_train)\n",
    "\n",
    "print(metrics.classification_report(Y_train, pred))"
   ]
  },
  {
   "cell_type": "markdown",
   "id": "cb0d3de1",
   "metadata": {},
   "source": [
    "Including the TF-IDF does not add any accuracy to the model. Maybe we could use sentiment analysis, since fake news tend to be not neutral."
   ]
  },
  {
   "cell_type": "code",
   "execution_count": 34,
   "id": "d0d95ba7",
   "metadata": {},
   "outputs": [],
   "source": [
    "import nltk\n",
    "from nltk.sentiment import SentimentIntensityAnalyzer"
   ]
  },
  {
   "cell_type": "code",
   "execution_count": 35,
   "id": "6906e960",
   "metadata": {},
   "outputs": [
    {
     "name": "stderr",
     "output_type": "stream",
     "text": [
      "[nltk_data] Downloading package vader_lexicon to\n",
      "[nltk_data]     C:\\Users\\otgar\\AppData\\Roaming\\nltk_data...\n"
     ]
    },
    {
     "name": "stdout",
     "output_type": "stream",
     "text": [
      "Sentence: I am very happy!\n",
      "Sentiment Scores: {'neg': 0.0, 'neu': 0.318, 'pos': 0.682, 'compound': 0.6468}\n",
      "Sentiment: Positive\n",
      "Sentence: I am ill depressed\n",
      "Sentiment Scores: {'neg': 0.859, 'neu': 0.141, 'pos': 0.0, 'compound': -0.7269}\n",
      "Sentiment: Negative\n",
      "Sentence: I woke up at 8.00 am\n",
      "Sentiment Scores: {'neg': 0.0, 'neu': 1.0, 'pos': 0.0, 'compound': 0.0}\n",
      "Sentiment: Neutral\n"
     ]
    }
   ],
   "source": [
    "nltk.download('vader_lexicon')\n",
    "\n",
    "sentences = ['I am very happy!',\n",
    "            'I am ill depressed',\n",
    "            'I woke up at 8.00 am']\n",
    "\n",
    "# Initialize the SentimentIntensityAnalyzer\n",
    "sid = SentimentIntensityAnalyzer()\n",
    "\n",
    "for sentence in sentences:\n",
    "    sentiment_scores = sid.polarity_scores(sentence)\n",
    "    print(f\"Sentence: {sentence}\")\n",
    "    print(f\"Sentiment Scores: {sentiment_scores}\")\n",
    "    print(\"Sentiment:\", end=\" \")\n",
    "\n",
    "    # Determine sentiment based on the compound score\n",
    "    if sentiment_scores['compound'] >= 0.05:\n",
    "        print(\"Positive\")\n",
    "    elif sentiment_scores['compound'] <= -0.05:\n",
    "        print(\"Negative\")\n",
    "    else:\n",
    "        print(\"Neutral\")"
   ]
  },
  {
   "cell_type": "markdown",
   "id": "45b34cbd",
   "metadata": {},
   "source": [
    "Let us try with a random headline"
   ]
  },
  {
   "cell_type": "code",
   "execution_count": 43,
   "id": "7712c8ad",
   "metadata": {},
   "outputs": [
    {
     "data": {
      "text/plain": [
       "'Botox maker Allergan draws bid from Valeant (Update)'"
      ]
     },
     "execution_count": 43,
     "metadata": {},
     "output_type": "execute_result"
    }
   ],
   "source": [
    "datab.loc[452]['Title']"
   ]
  },
  {
   "cell_type": "code",
   "execution_count": 38,
   "id": "623b12a0",
   "metadata": {},
   "outputs": [
    {
     "name": "stdout",
     "output_type": "stream",
     "text": [
      "{'neg': 0.0, 'neu': 1.0, 'pos': 0.0, 'compound': 0.0}\n"
     ]
    }
   ],
   "source": [
    "sentence = datab.loc[452]['Title']\n",
    "sentiment_scores = sid.polarity_scores(sentence)\n",
    "print(sentiment_scores)"
   ]
  },
  {
   "cell_type": "code",
   "execution_count": 41,
   "id": "c1c8f544",
   "metadata": {},
   "outputs": [
    {
     "data": {
      "text/plain": [
       "1"
      ]
     },
     "execution_count": 41,
     "metadata": {},
     "output_type": "execute_result"
    }
   ],
   "source": [
    "datab.loc[452].real"
   ]
  },
  {
   "cell_type": "code",
   "execution_count": 42,
   "id": "98130cc6",
   "metadata": {},
   "outputs": [
    {
     "data": {
      "text/plain": [
       "'Humanitarian Aid: Volunteers Bring Relief to Disaster-Hit Communities'"
      ]
     },
     "execution_count": 42,
     "metadata": {},
     "output_type": "execute_result"
    }
   ],
   "source": [
    "datab.loc[0]['Title']"
   ]
  },
  {
   "cell_type": "code",
   "execution_count": 44,
   "id": "bbf4ddbd",
   "metadata": {},
   "outputs": [
    {
     "name": "stdout",
     "output_type": "stream",
     "text": [
      "{'neg': 0.0, 'neu': 0.693, 'pos': 0.307, 'compound': 0.4767}\n"
     ]
    }
   ],
   "source": [
    "sentence = datab.loc[0]['Title']\n",
    "sentiment_scores = sid.polarity_scores(sentence)\n",
    "print(sentiment_scores)"
   ]
  },
  {
   "cell_type": "code",
   "execution_count": 45,
   "id": "f5abe5bb",
   "metadata": {},
   "outputs": [
    {
     "data": {
      "text/plain": [
       "0"
      ]
     },
     "execution_count": 45,
     "metadata": {},
     "output_type": "execute_result"
    }
   ],
   "source": [
    "datab.loc[0].real"
   ]
  },
  {
   "cell_type": "markdown",
   "id": "8f3700a2",
   "metadata": {},
   "source": [
    "It looks like we could use the score of sentiment analysis to try to identify which of the titles are fake or real"
   ]
  },
  {
   "cell_type": "code",
   "execution_count": null,
   "id": "641ffe6b",
   "metadata": {},
   "outputs": [],
   "source": []
  }
 ],
 "metadata": {
  "kernelspec": {
   "display_name": "Python 3",
   "language": "python",
   "name": "python3"
  },
  "language_info": {
   "codemirror_mode": {
    "name": "ipython",
    "version": 3
   },
   "file_extension": ".py",
   "mimetype": "text/x-python",
   "name": "python",
   "nbconvert_exporter": "python",
   "pygments_lexer": "ipython3",
   "version": "3.8.8"
  }
 },
 "nbformat": 4,
 "nbformat_minor": 5
}
